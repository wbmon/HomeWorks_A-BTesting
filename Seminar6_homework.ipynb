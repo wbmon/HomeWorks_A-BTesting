{
 "cells": [
  {
   "cell_type": "markdown",
   "id": "7117f3dd",
   "metadata": {},
   "source": [
    "### Задание 1 .\n",
    "Продакт на главной mail.ru решил протестировать в рекомендательной ленте контента вместо карточек со статьями видеоплеер с короткими видео. Нынешний таймспент на юзера в день в среднем равен 25 минут, а стандартная ошибка (SD) равна 156. Мы предполагаем, что в новой версии таймспент на юзера в день изменится на 10%. Средний трафик 20000 человек в день. Посчитайте сколько дней необходимо держать эксперимент при alpha = 5% и beta = 20% ."
   ]
  },
  {
   "cell_type": "markdown",
   "id": "e2895f1c",
   "metadata": {},
   "source": [
    "### Решение:\n",
    "Используя данные задачи, получаем исходные данные для калькуляции контрольных групп: нынешний таймспент - 25 минут, таргетный таймспент - 27,5 минут, SD - 156."
   ]
  },
  {
   "cell_type": "markdown",
   "id": "9f142362",
   "metadata": {},
   "source": [
    "![](HW6_1.jpg \"Calculate Sample Size\")"
   ]
  },
  {
   "cell_type": "markdown",
   "id": "3126b5f2",
   "metadata": {},
   "source": [
    "Получили размер контрольной группы **61 124** человека.  \n",
    "Значит и размер тестовой группы **61 124** пользователей.  \n",
    "Т.е. всего требуется **122 248** пользователей.\n",
    "\n",
    "Длительность теста, если мы его реализуем на всех пользователях:"
   ]
  },
  {
   "cell_type": "code",
   "execution_count": 6,
   "id": "a59b0871",
   "metadata": {},
   "outputs": [
    {
     "data": {
      "text/plain": [
       "6.1124"
      ]
     },
     "execution_count": 6,
     "metadata": {},
     "output_type": "execute_result"
    }
   ],
   "source": [
    "122248 / 20000"
   ]
  },
  {
   "cell_type": "markdown",
   "id": "39db6c36",
   "metadata": {},
   "source": [
    "### Ответ:\n",
    "**Длительность теста 7 дней.**"
   ]
  },
  {
   "cell_type": "markdown",
   "id": "b3c21302",
   "metadata": {},
   "source": [
    "### Задание 2.\n",
    "Наша продуктовая команда в ecommerce магазине планирует запустить тест, направленный на ускорение загрузки сайта. Одна из основных метрик bounce rate в GA = 40%. Мы предполагаем, что при оптимизации сайта она изменится минимум на 20%.Средний трафик 4000 человек в день. Посчитайте сколько нам нужно дней держать эксперимент при alpha = 5% и beta = 20%"
   ]
  },
  {
   "cell_type": "markdown",
   "id": "695d75c4",
   "metadata": {},
   "source": [
    "### Решение:"
   ]
  },
  {
   "cell_type": "markdown",
   "id": "5ebaf9ba",
   "metadata": {},
   "source": [
    "Используем калькулятор для нахождения размера выборки:\n",
    "![](HW6_2.jpg \"Calculate Sample Size\")\n",
    "Получили размер контрольной группы 592 человека.  \n",
    "Значит и размер тестовой группы 592 пользователей.  \n",
    "Т.е. всего требуется 1 184 пользователя.\n",
    "\n",
    "Длительность эксперимента, если мы его реализуем на всех пользователях:"
   ]
  },
  {
   "cell_type": "code",
   "execution_count": 7,
   "id": "0100078f",
   "metadata": {},
   "outputs": [
    {
     "data": {
      "text/plain": [
       "0.296"
      ]
     },
     "execution_count": 7,
     "metadata": {},
     "output_type": "execute_result"
    }
   ],
   "source": [
    "1184 / 4000"
   ]
  },
  {
   "cell_type": "markdown",
   "id": "ee5978d4",
   "metadata": {},
   "source": [
    "### Ответ:\n",
    "**Длительность эксперимента 1 день.**"
   ]
  }
 ],
 "metadata": {
  "kernelspec": {
   "display_name": "Python 3 (ipykernel)",
   "language": "python",
   "name": "python3"
  },
  "language_info": {
   "codemirror_mode": {
    "name": "ipython",
    "version": 3
   },
   "file_extension": ".py",
   "mimetype": "text/x-python",
   "name": "python",
   "nbconvert_exporter": "python",
   "pygments_lexer": "ipython3",
   "version": "3.9.13"
  }
 },
 "nbformat": 4,
 "nbformat_minor": 5
}
