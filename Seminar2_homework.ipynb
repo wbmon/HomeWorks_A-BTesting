{
 "cells": [
  {
   "cell_type": "markdown",
   "id": "7117f3dd",
   "metadata": {},
   "source": [
    "### Задание 1 .\n",
    "**Сделайте приоритезацию гипотез из предыдущего урока с помощью ICE**"
   ]
  },
  {
   "cell_type": "markdown",
   "id": "e2895f1c",
   "metadata": {},
   "source": [
    "#### Гипотезы, предложенные в предыдущем уроке:\n",
    "1. Если слева создать дополнительное меню с наиболее популярными разделами, количество прокруток страницы снизится. Пользователям будет удобнее находить необходимую информацию.\n",
    "2. Размещение полезной информации в виде небольших баннеров о различных возможностях сервиса, а также вывод популярных разделов позволит сделать главную страницу более полезной для пользователей и продвижения.\n",
    "3. Я считаю, что идеальные пользователи Яндекс.Учебника - это ученики школ, их родители и учителя, которые живут в небольших городах и сельской местности, где доступ к образовательным ресурсам ограничен.\n",
    "4. Предоставить возможность регистрации ученика по электронной почте и через профили социальных сетей, т.к. существует лишь один способ входа на сайт с использование данных, которые заранее должен ввести учитель.\n",
    "5. Мне кажется, что если добавить короткие обучающие видео (как в тиктоке), то вероятность то, что пользователь заинтересуется какими-то темами увеличится.\n",
    "\n",
    "При выполнении задания рассматривал различные сервисы для определения приоритерных идей. Сегодня к услугам *product managers* — множество популярных методологий для приоритизации от игровых до самых сложных, количественных и качественных. Попробовал провести приоритезацию гипотез в сервисе для управления продуктами и проектами **Hygger.io** (https://nevinka-school1.hygger.io/b/333378)</br>\n",
    "  Работу начал с того, что собрал необходимые идеи продукта на Kanban-доске. При использовании Hygger, можно структурировать их с помощью горизонтальных колонок Swimlanes, а также применяя Labels. А также можно настроить процесс работы с гипотезами с помощью Columns. \n",
    "![](hygger1.png \"My Board\")\n",
    "\n",
    "В меню Hygger есть различные варианты моделей для оценки и приоритизации гипотез, в том числе и ICE. После заполнения данных экспортировал данные в файл csv:"
   ]
  },
  {
   "cell_type": "code",
   "execution_count": 46,
   "id": "e3d3d31d",
   "metadata": {},
   "outputs": [
    {
     "data": {
      "text/html": [
       "<style type=\"text/css\">\n",
       "#T_2abc0_row0_col1, #T_2abc0_row1_col1, #T_2abc0_row2_col1, #T_2abc0_row3_col1, #T_2abc0_row4_col1 {\n",
       "  text-align: left;\n",
       "}\n",
       "#T_2abc0_row0_col5 {\n",
       "  width: 10em;\n",
       "  background: linear-gradient(90deg, transparent 38.1%, coral 38.1%, coral 50.0%, transparent 50.0%);\n",
       "  text-align: center;\n",
       "}\n",
       "#T_2abc0_row1_col5 {\n",
       "  width: 10em;\n",
       "  background: linear-gradient(90deg, transparent 23.8%, coral 23.8%, coral 50.0%, transparent 50.0%);\n",
       "  text-align: center;\n",
       "}\n",
       "#T_2abc0_row2_col5 {\n",
       "  width: 10em;\n",
       "  background: linear-gradient(90deg, transparent 42.9%, coral 42.9%, coral 50.0%, transparent 50.0%);\n",
       "  text-align: center;\n",
       "}\n",
       "#T_2abc0_row3_col5 {\n",
       "  width: 10em;\n",
       "  background: linear-gradient(90deg, transparent 50.0%, yellowgreen 50.0%, yellowgreen 100.0%, transparent 100.0%);\n",
       "  text-align: center;\n",
       "}\n",
       "#T_2abc0_row4_col5 {\n",
       "  width: 10em;\n",
       "  background: linear-gradient(90deg, transparent 45.2%, coral 45.2%, coral 50.0%, transparent 50.0%);\n",
       "  text-align: center;\n",
       "}\n",
       "</style>\n",
       "<table id=\"T_2abc0\">\n",
       "  <thead>\n",
       "    <tr>\n",
       "      <th class=\"blank level0\" >&nbsp;</th>\n",
       "      <th id=\"T_2abc0_level0_col0\" class=\"col_heading level0 col0\" >Task Key</th>\n",
       "      <th id=\"T_2abc0_level0_col1\" class=\"col_heading level0 col1\" >Task Title</th>\n",
       "      <th id=\"T_2abc0_level0_col2\" class=\"col_heading level0 col2\" >Impact</th>\n",
       "      <th id=\"T_2abc0_level0_col3\" class=\"col_heading level0 col3\" >Confidence</th>\n",
       "      <th id=\"T_2abc0_level0_col4\" class=\"col_heading level0 col4\" >Ease</th>\n",
       "      <th id=\"T_2abc0_level0_col5\" class=\"col_heading level0 col5\" >Score</th>\n",
       "    </tr>\n",
       "  </thead>\n",
       "  <tbody>\n",
       "    <tr>\n",
       "      <th id=\"T_2abc0_level0_row0\" class=\"row_heading level0 row0\" >0</th>\n",
       "      <td id=\"T_2abc0_row0_col0\" class=\"data row0 col0\" >GIP-1</td>\n",
       "      <td id=\"T_2abc0_row0_col1\" class=\"data row0 col1\" >Если слева создать дополнительное меню с наиболее популярными разделами, количество прокруток страницы снизится. Пользователям будет удобнее находить необходимую информацию.</td>\n",
       "      <td id=\"T_2abc0_row0_col2\" class=\"data row0 col2\" >7</td>\n",
       "      <td id=\"T_2abc0_row0_col3\" class=\"data row0 col3\" >5</td>\n",
       "      <td id=\"T_2abc0_row0_col4\" class=\"data row0 col4\" >5</td>\n",
       "      <td id=\"T_2abc0_row0_col5\" class=\"data row0 col5\" >175</td>\n",
       "    </tr>\n",
       "    <tr>\n",
       "      <th id=\"T_2abc0_level0_row1\" class=\"row_heading level0 row1\" >1</th>\n",
       "      <td id=\"T_2abc0_row1_col0\" class=\"data row1 col0\" >GIP-2</td>\n",
       "      <td id=\"T_2abc0_row1_col1\" class=\"data row1 col1\" >Размещение полезной информации в виде небольших баннеров о различных возможностях сервиса, а также вывод популярных разделов позволит сделать главную страницу более полезной для пользователей и продвижения.</td>\n",
       "      <td id=\"T_2abc0_row1_col2\" class=\"data row1 col2\" >5</td>\n",
       "      <td id=\"T_2abc0_row1_col3\" class=\"data row1 col3\" >5</td>\n",
       "      <td id=\"T_2abc0_row1_col4\" class=\"data row1 col4\" >5</td>\n",
       "      <td id=\"T_2abc0_row1_col5\" class=\"data row1 col5\" >125</td>\n",
       "    </tr>\n",
       "    <tr>\n",
       "      <th id=\"T_2abc0_level0_row2\" class=\"row_heading level0 row2\" >2</th>\n",
       "      <td id=\"T_2abc0_row2_col0\" class=\"data row2 col0\" >GIP-3</td>\n",
       "      <td id=\"T_2abc0_row2_col1\" class=\"data row2 col1\" >Я считаю, что идеальные пользователи Яндекс.Учебника - это ученики школ, их родители и учителя, которые живут в небольших городах и сельской местности, где доступ к образовательным ресурсам ограничен.</td>\n",
       "      <td id=\"T_2abc0_row2_col2\" class=\"data row2 col2\" >8</td>\n",
       "      <td id=\"T_2abc0_row2_col3\" class=\"data row2 col3\" >8</td>\n",
       "      <td id=\"T_2abc0_row2_col4\" class=\"data row2 col4\" >3</td>\n",
       "      <td id=\"T_2abc0_row2_col5\" class=\"data row2 col5\" >192</td>\n",
       "    </tr>\n",
       "    <tr>\n",
       "      <th id=\"T_2abc0_level0_row3\" class=\"row_heading level0 row3\" >3</th>\n",
       "      <td id=\"T_2abc0_row3_col0\" class=\"data row3 col0\" >GIP-4</td>\n",
       "      <td id=\"T_2abc0_row3_col1\" class=\"data row3 col1\" >Предоставить возможность регистрации ученика по электронной почте и через профили социальных сетей, т.к. существует лишь один способ входа на сайт с использованием данных, которые заранее должен ввести учитель.</td>\n",
       "      <td id=\"T_2abc0_row3_col2\" class=\"data row3 col2\" >7</td>\n",
       "      <td id=\"T_2abc0_row3_col3\" class=\"data row3 col3\" >7</td>\n",
       "      <td id=\"T_2abc0_row3_col4\" class=\"data row3 col4\" >8</td>\n",
       "      <td id=\"T_2abc0_row3_col5\" class=\"data row3 col5\" >392</td>\n",
       "    </tr>\n",
       "    <tr>\n",
       "      <th id=\"T_2abc0_level0_row4\" class=\"row_heading level0 row4\" >4</th>\n",
       "      <td id=\"T_2abc0_row4_col0\" class=\"data row4 col0\" >GIP-5</td>\n",
       "      <td id=\"T_2abc0_row4_col1\" class=\"data row4 col1\" >Мне кажется, что если добавить короткие обучающие видео (как в тиктоке), то вероятность то, что пользователь заинтересуется какими-то темами увеличится.</td>\n",
       "      <td id=\"T_2abc0_row4_col2\" class=\"data row4 col2\" >10</td>\n",
       "      <td id=\"T_2abc0_row4_col3\" class=\"data row4 col3\" >10</td>\n",
       "      <td id=\"T_2abc0_row4_col4\" class=\"data row4 col4\" >2</td>\n",
       "      <td id=\"T_2abc0_row4_col5\" class=\"data row4 col5\" >200</td>\n",
       "    </tr>\n",
       "  </tbody>\n",
       "</table>\n"
      ],
      "text/plain": [
       "<pandas.io.formats.style.Styler at 0x22951a1a8b0>"
      ]
     },
     "execution_count": 46,
     "metadata": {},
     "output_type": "execute_result"
    }
   ],
   "source": [
    "import pandas as pd\n",
    "table = pd.read_csv('ICE.csv')\n",
    "pd.set_option('display.max_colwidth', None)\n",
    "\n",
    "(table\n",
    " .head()\n",
    " .style\n",
    " \n",
    " .bar(subset=['Score'],\n",
    "      align='mean',\n",
    "      color=['coral','yellowgreen'],\n",
    "      vmin=table['Score'].min(),\n",
    "      vmax=table['Score'].max()\n",
    "     )\n",
    " .set_properties(**{'text-align': 'center'}, subset='Score')\n",
    " .set_properties(**{'text-align': 'left'}, subset='Task Title')\n",
    ")"
   ]
  },
  {
   "cell_type": "markdown",
   "id": "9f142362",
   "metadata": {},
   "source": [
    "ICE Scoring зачастую подвергается критике за его субъективность:\n",
    "\n",
    "* одна и та же идея может оцениваться по-разному одним и тем же лицом в разное время. Это может повлиять на окончательный список приоритетов.\n",
    "* если разные люди оценивают гипотезы — все они будут оценивать её по-разному.\n",
    "<hr>\n",
    "Но, моя оценка ICE определила приоритетной четвертую гипотезу."
   ]
  },
  {
   "cell_type": "markdown",
   "id": "b3c21302",
   "metadata": {},
   "source": [
    "### Задание 2.\n",
    "**Составьте шаблон дизайна эксперимента для гипотезы, которая набрала больше всего баллов в практическом задании предыдущего урока**"
   ]
  },
  {
   "cell_type": "markdown",
   "id": "695d75c4",
   "metadata": {},
   "source": [
    "#### Гипотеза:\n",
    "Предоставить возможность регистрации ученика по электронной почте и через профили социальных сетей, т.к. существует лишь один способ входа на сайт с использованием данных, которые заранее должен ввести учитель.\n",
    "#### Что делаем в каждой из групп:\n",
    "Контрольная группа без изменений, а тестовой группе добавляем возможности выбрать способ входа с использованием популярных социальных сетей.\n",
    "#### На каких пользователях тестируем:\n",
    "На новых пользователях, перед которыми стоит проблема регистрации и входа в Яндекс.Учебник.\n",
    "#### Метрики:\n",
    "Увеличение количества активных пользователей, увеличение пользователей, которые пользуются Яндекс.Учебником без привязки к классу и учителю."
   ]
  },
  {
   "cell_type": "code",
   "execution_count": null,
   "id": "e4e49b72",
   "metadata": {},
   "outputs": [],
   "source": []
  },
  {
   "cell_type": "code",
   "execution_count": null,
   "id": "0100078f",
   "metadata": {},
   "outputs": [],
   "source": []
  }
 ],
 "metadata": {
  "kernelspec": {
   "display_name": "Python 3 (ipykernel)",
   "language": "python",
   "name": "python3"
  },
  "language_info": {
   "codemirror_mode": {
    "name": "ipython",
    "version": 3
   },
   "file_extension": ".py",
   "mimetype": "text/x-python",
   "name": "python",
   "nbconvert_exporter": "python",
   "pygments_lexer": "ipython3",
   "version": "3.9.13"
  }
 },
 "nbformat": 4,
 "nbformat_minor": 5
}
