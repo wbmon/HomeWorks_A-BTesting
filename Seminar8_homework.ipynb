{
 "cells": [
  {
   "cell_type": "markdown",
   "id": "7117f3dd",
   "metadata": {},
   "source": [
    "### Задание 1 .\n",
    "На сайте запущен А/В тест с целью увеличить доход. В приложенном excel файле вы найдете сырые данные по результатам эксперимента – user_id, тип выборки variant_name и доход принесенный пользователем revenue.  \n",
    "Проанализируйте результаты эксперимента и напишите свои рекомендации менеджеру."
   ]
  },
  {
   "cell_type": "markdown",
   "id": "e2895f1c",
   "metadata": {},
   "source": [
    "### Решение:\n",
    "Подгрузим библиотеки и датасет."
   ]
  },
  {
   "cell_type": "code",
   "execution_count": 85,
   "id": "0100078f",
   "metadata": {},
   "outputs": [
    {
     "name": "stdout",
     "output_type": "stream",
     "text": [
      "The content of the file is:\n",
      "       USER_ID VARIANT_NAME  REVENUE\n",
      "0         737      variant      0.0\n",
      "1        2423      control      0.0\n",
      "2        9411      control      0.0\n",
      "3        7311      control      0.0\n",
      "4        6174      variant      0.0\n",
      "...       ...          ...      ...\n",
      "9995     1981      control      0.0\n",
      "9996      502      variant      0.0\n",
      "9997     9214      variant      0.0\n",
      "9998     7741      control      0.0\n",
      "9999     9468      control      0.0\n",
      "\n",
      "[10000 rows x 3 columns]\n"
     ]
    }
   ],
   "source": [
    "import pandas as pd\n",
    "import numpy as np\n",
    "import matplotlib.pyplot as plt\n",
    "from statsmodels.stats.power import TTestIndPower\n",
    "from scipy.stats import ttest_ind\n",
    "from scipy.stats import shapiro\n",
    "from scipy.stats import mannwhitneyu\n",
    "\n",
    "import warnings\n",
    "warnings.filterwarnings('ignore')\n",
    "warnings.warn('DelftStack')\n",
    "warnings.warn('Do not show this message')\n",
    "\n",
    "excel_data = pd.read_excel('AB_Test_Results.xlsx');\n",
    "df = pd.DataFrame(excel_data, columns=['USER_ID', 'VARIANT_NAME', 'REVENUE'])\n",
    "\n",
    "print(\"The content of the file is:\\n\", df)\n"
   ]
  },
  {
   "cell_type": "markdown",
   "id": "02b23719",
   "metadata": {},
   "source": [
    "Датасет содержит данные с ID пользователя, Распрделением по группам для A/B теста и доходом, полученным от пользователя.  \n",
    "По эти данным сформулируем нулевую гипотезу:<br>\n",
    "**Средняя выручка, полученная от пользователей в контрольной и тестовой группе не имеет статистически значимых отличий.**<br>\n",
    "Для начала нужно проверить данные на корректрость."
   ]
  },
  {
   "cell_type": "code",
   "execution_count": 86,
   "id": "438f4178",
   "metadata": {},
   "outputs": [
    {
     "name": "stdout",
     "output_type": "stream",
     "text": [
      "<class 'pandas.core.frame.DataFrame'>\n",
      "RangeIndex: 10000 entries, 0 to 9999\n",
      "Data columns (total 3 columns):\n",
      " #   Column        Non-Null Count  Dtype  \n",
      "---  ------        --------------  -----  \n",
      " 0   USER_ID       10000 non-null  int64  \n",
      " 1   VARIANT_NAME  10000 non-null  object \n",
      " 2   REVENUE       10000 non-null  float64\n",
      "dtypes: float64(1), int64(1), object(1)\n",
      "memory usage: 234.5+ KB\n"
     ]
    }
   ],
   "source": [
    "df.info()"
   ]
  },
  {
   "cell_type": "code",
   "execution_count": 87,
   "id": "69ec6fc5",
   "metadata": {},
   "outputs": [
    {
     "data": {
      "text/html": [
       "<div>\n",
       "<style scoped>\n",
       "    .dataframe tbody tr th:only-of-type {\n",
       "        vertical-align: middle;\n",
       "    }\n",
       "\n",
       "    .dataframe tbody tr th {\n",
       "        vertical-align: top;\n",
       "    }\n",
       "\n",
       "    .dataframe thead th {\n",
       "        text-align: right;\n",
       "    }\n",
       "</style>\n",
       "<table border=\"1\" class=\"dataframe\">\n",
       "  <thead>\n",
       "    <tr style=\"text-align: right;\">\n",
       "      <th></th>\n",
       "      <th>USER_ID</th>\n",
       "      <th>REVENUE</th>\n",
       "    </tr>\n",
       "  </thead>\n",
       "  <tbody>\n",
       "    <tr>\n",
       "      <th>count</th>\n",
       "      <td>10000.000000</td>\n",
       "      <td>10000.000000</td>\n",
       "    </tr>\n",
       "    <tr>\n",
       "      <th>mean</th>\n",
       "      <td>4981.080200</td>\n",
       "      <td>0.099447</td>\n",
       "    </tr>\n",
       "    <tr>\n",
       "      <th>std</th>\n",
       "      <td>2890.590115</td>\n",
       "      <td>2.318529</td>\n",
       "    </tr>\n",
       "    <tr>\n",
       "      <th>min</th>\n",
       "      <td>2.000000</td>\n",
       "      <td>0.000000</td>\n",
       "    </tr>\n",
       "    <tr>\n",
       "      <th>25%</th>\n",
       "      <td>2468.750000</td>\n",
       "      <td>0.000000</td>\n",
       "    </tr>\n",
       "    <tr>\n",
       "      <th>50%</th>\n",
       "      <td>4962.000000</td>\n",
       "      <td>0.000000</td>\n",
       "    </tr>\n",
       "    <tr>\n",
       "      <th>75%</th>\n",
       "      <td>7511.500000</td>\n",
       "      <td>0.000000</td>\n",
       "    </tr>\n",
       "    <tr>\n",
       "      <th>max</th>\n",
       "      <td>10000.000000</td>\n",
       "      <td>196.010000</td>\n",
       "    </tr>\n",
       "  </tbody>\n",
       "</table>\n",
       "</div>"
      ],
      "text/plain": [
       "            USER_ID       REVENUE\n",
       "count  10000.000000  10000.000000\n",
       "mean    4981.080200      0.099447\n",
       "std     2890.590115      2.318529\n",
       "min        2.000000      0.000000\n",
       "25%     2468.750000      0.000000\n",
       "50%     4962.000000      0.000000\n",
       "75%     7511.500000      0.000000\n",
       "max    10000.000000    196.010000"
      ]
     },
     "execution_count": 87,
     "metadata": {},
     "output_type": "execute_result"
    }
   ],
   "source": [
    "df.describe()"
   ]
  },
  {
   "cell_type": "code",
   "execution_count": 88,
   "id": "2f7c1f69",
   "metadata": {},
   "outputs": [
    {
     "data": {
      "text/plain": [
       "USER_ID         0\n",
       "VARIANT_NAME    0\n",
       "REVENUE         0\n",
       "dtype: int64"
      ]
     },
     "execution_count": 88,
     "metadata": {},
     "output_type": "execute_result"
    }
   ],
   "source": [
    "df.isna().sum()"
   ]
  },
  {
   "cell_type": "markdown",
   "id": "269802d4",
   "metadata": {},
   "source": [
    "Проверка на пропуски показала, что в тетасете пропущенных значений нет."
   ]
  },
  {
   "cell_type": "code",
   "execution_count": 89,
   "id": "f04a7aa4",
   "metadata": {},
   "outputs": [
    {
     "data": {
      "text/plain": [
       "variant    5016\n",
       "control    4984\n",
       "Name: VARIANT_NAME, dtype: int64"
      ]
     },
     "execution_count": 89,
     "metadata": {},
     "output_type": "execute_result"
    }
   ],
   "source": [
    "df.VARIANT_NAME.value_counts()"
   ]
  },
  {
   "cell_type": "markdown",
   "id": "6f9f8c0c",
   "metadata": {},
   "source": [
    "Контрольная и тестовая группы имеют примерно равное количество пользователей."
   ]
  },
  {
   "cell_type": "code",
   "execution_count": 90,
   "id": "98962cea",
   "metadata": {},
   "outputs": [],
   "source": [
    "v = df.\\\n",
    "    groupby('USER_ID', as_index=False).\\\n",
    "    agg({'VARIANT_NAME': pd.Series.nunique})"
   ]
  },
  {
   "cell_type": "code",
   "execution_count": 91,
   "id": "8047d0f1",
   "metadata": {},
   "outputs": [
    {
     "data": {
      "text/html": [
       "<div>\n",
       "<style scoped>\n",
       "    .dataframe tbody tr th:only-of-type {\n",
       "        vertical-align: middle;\n",
       "    }\n",
       "\n",
       "    .dataframe tbody tr th {\n",
       "        vertical-align: top;\n",
       "    }\n",
       "\n",
       "    .dataframe thead th {\n",
       "        text-align: right;\n",
       "    }\n",
       "</style>\n",
       "<table border=\"1\" class=\"dataframe\">\n",
       "  <thead>\n",
       "    <tr style=\"text-align: right;\">\n",
       "      <th></th>\n",
       "      <th>USER_ID</th>\n",
       "      <th>VARIANT_NAME</th>\n",
       "    </tr>\n",
       "  </thead>\n",
       "  <tbody>\n",
       "    <tr>\n",
       "      <th>0</th>\n",
       "      <td>2</td>\n",
       "      <td>1</td>\n",
       "    </tr>\n",
       "    <tr>\n",
       "      <th>1</th>\n",
       "      <td>3</td>\n",
       "      <td>2</td>\n",
       "    </tr>\n",
       "    <tr>\n",
       "      <th>2</th>\n",
       "      <td>4</td>\n",
       "      <td>1</td>\n",
       "    </tr>\n",
       "    <tr>\n",
       "      <th>3</th>\n",
       "      <td>5</td>\n",
       "      <td>1</td>\n",
       "    </tr>\n",
       "    <tr>\n",
       "      <th>4</th>\n",
       "      <td>6</td>\n",
       "      <td>1</td>\n",
       "    </tr>\n",
       "    <tr>\n",
       "      <th>5</th>\n",
       "      <td>9</td>\n",
       "      <td>1</td>\n",
       "    </tr>\n",
       "    <tr>\n",
       "      <th>6</th>\n",
       "      <td>10</td>\n",
       "      <td>2</td>\n",
       "    </tr>\n",
       "    <tr>\n",
       "      <th>7</th>\n",
       "      <td>11</td>\n",
       "      <td>1</td>\n",
       "    </tr>\n",
       "    <tr>\n",
       "      <th>8</th>\n",
       "      <td>12</td>\n",
       "      <td>1</td>\n",
       "    </tr>\n",
       "    <tr>\n",
       "      <th>9</th>\n",
       "      <td>13</td>\n",
       "      <td>1</td>\n",
       "    </tr>\n",
       "  </tbody>\n",
       "</table>\n",
       "</div>"
      ],
      "text/plain": [
       "   USER_ID  VARIANT_NAME\n",
       "0        2             1\n",
       "1        3             2\n",
       "2        4             1\n",
       "3        5             1\n",
       "4        6             1\n",
       "5        9             1\n",
       "6       10             2\n",
       "7       11             1\n",
       "8       12             1\n",
       "9       13             1"
      ]
     },
     "execution_count": 91,
     "metadata": {},
     "output_type": "execute_result"
    }
   ],
   "source": [
    "v.head(10)"
   ]
  },
  {
   "cell_type": "markdown",
   "id": "0dfff5ec",
   "metadata": {},
   "source": [
    "А проверка на принадлежность пользователей той или иной группе показала, что некоторые  \n",
    "пользователи попали одновременно и в контрольную, и в тестовую группу. Такие данные из  \n",
    "датасета нужно исключить."
   ]
  },
  {
   "cell_type": "code",
   "execution_count": 92,
   "id": "28707195",
   "metadata": {},
   "outputs": [],
   "source": [
    "more_than_one_types = v.query('VARIANT_NAME > 1')"
   ]
  },
  {
   "cell_type": "code",
   "execution_count": 93,
   "id": "502af9cc",
   "metadata": {},
   "outputs": [],
   "source": [
    "df_new = df[~df.USER_ID.isin(more_than_one_types.USER_ID)].sort_values('USER_ID')"
   ]
  },
  {
   "cell_type": "code",
   "execution_count": 94,
   "id": "5515d8c2",
   "metadata": {},
   "outputs": [
    {
     "data": {
      "text/plain": [
       "(10000, 3)"
      ]
     },
     "execution_count": 94,
     "metadata": {},
     "output_type": "execute_result"
    }
   ],
   "source": [
    "df.shape"
   ]
  },
  {
   "cell_type": "code",
   "execution_count": 95,
   "id": "015410bd",
   "metadata": {},
   "outputs": [
    {
     "data": {
      "text/plain": [
       "(6070, 3)"
      ]
     },
     "execution_count": 95,
     "metadata": {},
     "output_type": "execute_result"
    }
   ],
   "source": [
    "df_new.shape"
   ]
  },
  {
   "cell_type": "markdown",
   "id": "cdb8ed05",
   "metadata": {},
   "source": [
    "И видим, что после создания датафрейма с исключенными дублями записей, размерность  \n",
    "наших данных сократилась примерно на 40%. И здесь уже можно поставить вопрос о корректности  \n",
    "проводимого эксперимента. <br>\n",
    "Скорее всего алгоритм распределения пользователей по группам имел ошибки и лучшим вариантом  \n",
    "было бы данный эксперимент свернуть и начать новый с данными, полученными после исправления  \n",
    "алгоритма распределения пользователей на группы. <br>\n",
    "Но, продолжим изучение данных и посмотрим на распределение пользователей по группам после  \n",
    "удаления дубликатов."
   ]
  },
  {
   "cell_type": "code",
   "execution_count": 96,
   "id": "247aee8f",
   "metadata": {},
   "outputs": [],
   "source": [
    "control = df_new.query('VARIANT_NAME == \"control\"')\n",
    "test = df_new.query('VARIANT_NAME == \"variant\"')"
   ]
  },
  {
   "cell_type": "code",
   "execution_count": 97,
   "id": "46e9d749",
   "metadata": {},
   "outputs": [
    {
     "data": {
      "text/plain": [
       "3026"
      ]
     },
     "execution_count": 97,
     "metadata": {},
     "output_type": "execute_result"
    }
   ],
   "source": [
    "len(control)"
   ]
  },
  {
   "cell_type": "code",
   "execution_count": 98,
   "id": "42c8be09",
   "metadata": {},
   "outputs": [
    {
     "data": {
      "text/plain": [
       "3044"
      ]
     },
     "execution_count": 98,
     "metadata": {},
     "output_type": "execute_result"
    }
   ],
   "source": [
    "len(test)"
   ]
  },
  {
   "cell_type": "markdown",
   "id": "35f3652b",
   "metadata": {},
   "source": [
    "Пользователей в группах примерно поровну.  \n",
    "Для определения того, соответствует ли выборка нормальному распределению, воспользуемся тестом Шапиро-Уилка.  \n",
    "Если p-значение ниже определенного уровня значимости, то у нас есть достаточно доказательств, чтобы сказать,  \n",
    "что данные выборки не получены из нормального распределения."
   ]
  },
  {
   "cell_type": "code",
   "execution_count": 99,
   "id": "54b56c07",
   "metadata": {},
   "outputs": [
    {
     "name": "stdout",
     "output_type": "stream",
     "text": [
      "Distribution is not normal\n",
      "\n"
     ]
    }
   ],
   "source": [
    "alpha = 0.05\n",
    "\n",
    "st = shapiro(df.REVENUE)\n",
    "print('Distribution is {}normal\\n'.format( {True:'not ',\n",
    "False:''}[st[1] < alpha]));"
   ]
  },
  {
   "cell_type": "markdown",
   "id": "92c21693",
   "metadata": {},
   "source": [
    "Тест показывает, что распределение не нормальное, в чем можно визуально убедиться, построив графики для обеих групп."
   ]
  },
  {
   "cell_type": "code",
   "execution_count": 100,
   "id": "61f3c4eb",
   "metadata": {},
   "outputs": [
    {
     "data": {
      "image/png": "[encoded data removed]",
      "text/plain": [
       "<Figure size 640x480 with 1 Axes>"
      ]
     },
     "metadata": {},
     "output_type": "display_data"
    }
   ],
   "source": [
    "control.REVENUE.hist(bins = 25, alpha = 0.3, label='Control')\n",
    "test.REVENUE.hist(bins = 25, alpha =1, label='Test')\n",
    "plt.title('Доход на юзера по группам')\n",
    "plt.xlabel('Доход')\n",
    "plt.ylabel('Число пользователей')\n",
    "plt.legend();"
   ]
  },
  {
   "cell_type": "markdown",
   "id": "00adacca",
   "metadata": {},
   "source": [
    "Таким образом, используем U- критерий Манна-Уитни для сравнения различий между двумя выборками, когда распределение выборки не является нормальным, а размеры выборки малы."
   ]
  },
  {
   "cell_type": "code",
   "execution_count": 101,
   "id": "08935bdd",
   "metadata": {},
   "outputs": [
    {
     "data": {
      "text/plain": [
       "MannwhitneyuResult(statistic=4622832.0, pvalue=0.2444173738649208)"
      ]
     },
     "execution_count": 101,
     "metadata": {},
     "output_type": "execute_result"
    }
   ],
   "source": [
    "mw_stats = mannwhitneyu(x = control.REVENUE.values, y = test.REVENUE.values)\n",
    "mw_stats"
   ]
  },
  {
   "cell_type": "markdown",
   "id": "14c4e2f7",
   "metadata": {},
   "source": [
    "Итак, можно подвести итоги. Но, чтобы исключить возможные ошибки II рода,  \n",
    "нужно еще провести расчет статистической мощности.  \n",
    "Более интуитивно статистическую мощность можно рассматривать как вероятность  \n",
    "принятия альтернативной гипотезы, когда альтернативная гипотеза верна.  \n",
    "При интерпретации статистической мощности мы ищем эмпирические установки,  \n",
    "обладающие высокой статистической мощностью.<br>\n",
    "* Низкая статистическая мощность: большой риск совершения ошибок типа II, т.е. ложный отрицательный результат.\n",
    "* Высокая статистическая мощность: небольшой риск совершения ошибок типа II.\n",
    "\n",
    "Библиотека statsmodels предоставляет класс TTestIndPower для расчета анализа мощности для критерия Стьюдента с независимыми выборками. Им и воспользуемся."
   ]
  },
  {
   "cell_type": "code",
   "execution_count": 102,
   "id": "8315908a",
   "metadata": {},
   "outputs": [],
   "source": [
    "C_mean = control.REVENUE.values.mean()\n",
    "T_mean = test.REVENUE.values.mean()\n",
    "\n",
    "C_std = control.REVENUE.values.std()\n",
    "T_std = test.REVENUE.values.std()"
   ]
  },
  {
   "cell_type": "code",
   "execution_count": 103,
   "id": "f7435276",
   "metadata": {},
   "outputs": [],
   "source": [
    "n =  len(control.REVENUE.values)"
   ]
  },
  {
   "cell_type": "code",
   "execution_count": 104,
   "id": "2a5f73de",
   "metadata": {},
   "outputs": [],
   "source": [
    "S = np.sqrt((T_std ** 2 + C_std ** 2) / 2)"
   ]
  },
  {
   "cell_type": "code",
   "execution_count": 105,
   "id": "f57b0a39",
   "metadata": {},
   "outputs": [],
   "source": [
    "effect =float((T_mean - C_mean) / S) "
   ]
  },
  {
   "cell_type": "code",
   "execution_count": 106,
   "id": "99444cf4",
   "metadata": {},
   "outputs": [
    {
     "data": {
      "text/plain": [
       "0.28936707257547545"
      ]
     },
     "execution_count": 106,
     "metadata": {},
     "output_type": "execute_result"
    }
   ],
   "source": [
    "alpha = 0.05\n",
    "\n",
    "analysis = TTestIndPower()\n",
    "result = analysis.solve_power(effect, power=None,\n",
    "nobs1=n, ratio=1.0, alpha=alpha)\n",
    "\n",
    "result"
   ]
  },
  {
   "cell_type": "markdown",
   "id": "6a870eec",
   "metadata": {},
   "source": [
    "### Выводы\n",
    "Ссылаясь на значение 0.289367, можем утверждать, что мощность проведенного теста очень низкая. Таким образом, мы никак не можем отвергнуть нулевую гипотезу, утверждающую, что **средняя выручка, полученная от пользователей в контрольной и тестовой группе не имеет статистически значимых отличий**.\n",
    "\n",
    "### Рекомендации\n",
    "Датасет для решения поставленной задачи с целью увеличить доход содержит данные, искажающие  \n",
    "реальную картину получения прибыли. Скорее всего алгоритм распределения пользователей по  \n",
    "группам имел ошибки и лучшим вариантом было бы данный эксперимент свернуть и начать новый  \n",
    "с данными, полученными после исправления алгоритма распределения пользователей на группы.  \n",
    "А также можно рекоменовадать увеличить объем данных в датасете для большей валидности  \n",
    "проводимого эксперимента. Задав уровень мощности в 80%, можем вновь воспользоваться  \n",
    "классом TTestIndPower только теперь для оценки подходящего размера выборки. То есть,  \n",
    "сколько наблюдений требуется от каждой выборки, чтобы по крайней мере обнаружить эффект  \n",
    "0,80 с вероятностью обнаружения эффекта 80%, если он истинен (20% ошибки типа II) и  \n",
    "вероятностью обнаружения 5%. эффект, если такого эффекта нет (ошибка первого рода)."
   ]
  },
  {
   "cell_type": "code",
   "execution_count": 107,
   "id": "99ee58cc",
   "metadata": {},
   "outputs": [
    {
     "data": {
      "text/plain": [
       "12052.666064035826"
      ]
     },
     "execution_count": 107,
     "metadata": {},
     "output_type": "execute_result"
    }
   ],
   "source": [
    "alpha = 0.05\n",
    "\n",
    "analysis = TTestIndPower()\n",
    "result = analysis.solve_power(effect, power = 0.8,\n",
    "nobs1 = None, ratio = 1.0, alpha = alpha)\n",
    "\n",
    "result"
   ]
  },
  {
   "cell_type": "markdown",
   "id": "8257a821",
   "metadata": {},
   "source": [
    "***Значит, для качественного повторного проведения A/B теста требуется датасет без дублей пользователей  \n",
    "в тестовой и контрольной группах и с разменами этих групп 12060.***"
   ]
  },
  {
   "cell_type": "code",
   "execution_count": null,
   "id": "5a94b260",
   "metadata": {},
   "outputs": [],
   "source": []
  }
 ],
 "metadata": {
  "kernelspec": {
   "display_name": "Python 3 (ipykernel)",
   "language": "python",
   "name": "python3"
  },
  "language_info": {
   "codemirror_mode": {
    "name": "ipython",
    "version": 3
   },
   "file_extension": ".py",
   "mimetype": "text/x-python",
   "name": "python",
   "nbconvert_exporter": "python",
   "pygments_lexer": "ipython3",
   "version": "3.9.13"
  }
 },
 "nbformat": 4,
 "nbformat_minor": 5
}
